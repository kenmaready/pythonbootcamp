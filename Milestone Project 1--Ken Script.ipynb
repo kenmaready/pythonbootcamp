{
 "cells": [
  {
   "cell_type": "markdown",
   "metadata": {},
   "source": [
    "# Milestone Project 1: Tic-Tac-Toe Game"
   ]
  },
  {
   "cell_type": "code",
   "execution_count": 1,
   "metadata": {
    "collapsed": true
   },
   "outputs": [],
   "source": [
    "from IPython.core.interactiveshell import InteractiveShell\n",
    "InteractiveShell.ast_node_interactivity = \"all\""
   ]
  },
  {
   "cell_type": "code",
   "execution_count": 2,
   "metadata": {},
   "outputs": [
    {
     "name": "stdout",
     "output_type": "stream",
     "text": [
      "Tic-Tac-Toe! Let's Play!\n",
      "Player 1, what is your name? Ken\n",
      "Player 2, what is your name? Starla\n"
     ]
    }
   ],
   "source": [
    "print(\"Tic-Tac-Toe! Let's Play!\")\n",
    "p1_name = input('Player 1, what is your name? ')\n",
    "p2_name = input('Player 2, what is your name? ')\n"
   ]
  },
  {
   "cell_type": "code",
   "execution_count": 3,
   "metadata": {},
   "outputs": [
    {
     "name": "stdout",
     "output_type": "stream",
     "text": [
      "\n",
      "\n",
      "Thank you!\n",
      "Here are the 'structions: You will take turns choosing a space on the board by giving me the column number (1, 2 or 3) \n",
      "and row number (1, 2 or 3) of the square you wish to play, to be entered in the following format:\n",
      "Column #, Row #\n",
      "\n",
      "For example, if you wish to play in the top right square, you would enter:\n",
      "3,1\n",
      "\n",
      "You may enter 'x' or 'exit' at any time to exit the game.  Good luck and may the best player win.\n",
      "\n",
      "Ken, you are 'X's\n",
      "Starla, you are 'O's\n",
      "\n",
      "Ken, you go first.\n"
     ]
    }
   ],
   "source": [
    "print(\"\"\"\\n\n",
    "Thank you!\n",
    "Here are the 'structions: You will take turns choosing a space on the board by giving me the position wish to play (row first, then column).\n",
    "For example: 'top right' or 'bottom middle' or 'middle middle'\n",
    "\n",
    "if you wish to play in the top right square, you would enter:\n",
    "3,1\\n\\nYou may enter 'x' or 'exit' at any time to exit the game.  Good luck and may the best player win.\\n\"\"\")\n",
    "print(p1_name + \", you are 'X's\")\n",
    "print(p2_name + \", you are 'O's\\n\")\n",
    "print(p1_name + ', you go first.')"
   ]
  },
  {
   "cell_type": "code",
   "execution_count": 25,
   "metadata": {},
   "outputs": [],
   "source": [
    "# Resetting Variables for New Game\n",
    "board = [['-']*3]*3\n",
    "XOs = (0,'X','O')\n",
    "turns = 0\n",
    "p1_list = []\n",
    "p2_list = []\n",
    "playerlist = [0, p1_list, p2_list]\n",
    "playername = [0, p1_name, p2_name]\n",
    "winning_combos = ((1,2,3),(4,5,6),(7,8,9),(1,4,7),(2,5,8),(3,6,9),(1,5,9),(3,5,7))\n"
   ]
  },
  {
   "cell_type": "code",
   "execution_count": 26,
   "metadata": {},
   "outputs": [
    {
     "name": "stdout",
     "output_type": "stream",
     "text": [
      "Here's the Board:\n",
      "===============\n",
      "     - - -\n",
      "     - - -\n",
      "     - - -\n",
      "===============\n"
     ]
    }
   ],
   "source": [
    "def show_board(board):\n",
    "    # This function shows the board to the players at the start of each new move\n",
    "    print(\"Here's the Board:\")\n",
    "    print('=' * 15)\n",
    "    for row in board:\n",
    "        print(' ' * 4, row[0], row[1], row[2])\n",
    "    print('=' * 15)\n",
    "\n",
    "show_board(board)"
   ]
  },
  {
   "cell_type": "code",
   "execution_count": 27,
   "metadata": {},
   "outputs": [
    {
     "name": "stdout",
     "output_type": "stream",
     "text": [
      "Okay Starla, you're up.  What's your move?\n",
      "top right\n",
      "['top', 'right']\n",
      "0 2\n"
     ]
    }
   ],
   "source": [
    "def player_move(player):\n",
    "    print(\"Okay \" + playername[player] + \", you're up.  What's your move?\")\n",
    "    move = input().strip()\n",
    "    return move\n",
    "\n",
    "player = 2\n",
    "move = player_move(player)\n",
    "print(moverow, movecol)"
   ]
  },
  {
   "cell_type": "code",
   "execution_count": 28,
   "metadata": {
    "collapsed": true
   },
   "outputs": [],
   "source": [
    "def test_win(player, playerlist):\n",
    "    for combo in winning_combos:\n",
    "        checknum = 0\n",
    "        for number in combo:\n",
    "            if not number in playerlist[player]:\n",
    "                continue\n",
    "            else:\n",
    "                checknum +=1\n",
    "        if checknum == 3:\n",
    "            return True\n",
    "    return False\n",
    "    "
   ]
  },
  {
   "cell_type": "code",
   "execution_count": null,
   "metadata": {},
   "outputs": [],
   "source": [
    "def test_valid(moverow, movecol):\n",
    "    # This function tests whether the move entered was in the valid format, and returns False if not\n",
    "    try:\n",
    "        move = move.split(sep=' ')\n",
    "    except:\n",
    "        return False\n",
    "    print(move)\n",
    "    \n",
    "    positions = {'top': 0, 'left':0, 'middle': 1, 'bottom': 2, 'right': 2}\n",
    "    try:\n",
    "        moverow, movecol = positions[move[0]], positions[move[1]]\n",
    "    except:\n",
    "        return False\n",
    "    return (moverow, movecol)\n"
   ]
  },
  {
   "cell_type": "code",
   "execution_count": 30,
   "metadata": {},
   "outputs": [],
   "source": [
    "def test_avail(moverow, movecol, board):\n",
    "    # This function tests whether the spot on the board the player indicated is still open or not, and returns False if not\n",
    "    return board[moverow-1][movecol-1] == '-'\n"
   ]
  },
  {
   "cell_type": "code",
   "execution_count": 31,
   "metadata": {},
   "outputs": [],
   "source": [
    "def record_move(player, playerXO, moverow, movecol):\n",
    "    # This function records the move on the board, and adds the number of the position (1-9) to that player's 'playerlist'\n",
    "    global board\n",
    "    global playerlist\n",
    "    board[moverow-1][movecol-1] == playerXO\n",
    "    playerlist[player].append((moverow*3) + movecol)\n",
    "    "
   ]
  },
  {
   "cell_type": "code",
   "execution_count": 36,
   "metadata": {
    "collapsed": true
   },
   "outputs": [],
   "source": [
    "def assess_move(player, move, playerlist, board):\n",
    "    # This function calls validating functions to be sure the move is a valid one, then records the move and tests\n",
    "    # to see if the move was a winner, or if the move covered the last spot on the board without either player being \n",
    "    # a winner (a draw).  If neither of these, it instructs the game to move to the next player's move by returning a value\n",
    "    # of 0.  \n",
    "    # (Return Values: \n",
    "    #     -1 indicates the same player needs to try again (invalid move)\n",
    "    #     0 indicates it's the next player's turn\n",
    "    #     1 indicates that this move is a winner or resulted in a draw and this game is over.)\n",
    "    \n",
    "    validity = test_valid(move)\n",
    "    if validity == False:\n",
    "        print(\"That is not a valid entry. Please enter a valid entry in the format: 'top right'\")\n",
    "        return -1\n",
    "    moverow, movecol = validity\n",
    "    if test_avail(moverow, movecol, board) == False:\n",
    "        print('That spot has already been taken. Please enter another spot.')\n",
    "        return -1\n",
    "    else:\n",
    "        record_move(playername, playerXO, moverow, movecol, board)\n",
    "    \n",
    "    if test_win(playerlist, board) == True:\n",
    "        print('Tic-Tac-Toe! The ' + playerXO + 's have it! Congratulations, ' + playername + '!')\n",
    "        return 1\n",
    "    elif test_draw(board) == True:\n",
    "        print(\"All spots are filled and no one has won. It's a Draw!\")\n",
    "        return 1\n",
    "    else:\n",
    "        board[moverow-1][movecol-1] == playerXO\n",
    "        return 0\n",
    "        "
   ]
  },
  {
   "cell_type": "code",
   "execution_count": null,
   "metadata": {
    "collapsed": true
   },
   "outputs": [],
   "source": [
    "def gameplay():\n",
    "    global turns\n",
    "    turns += 1\n",
    "    if turns % 2 == 0:\n",
    "        player = 2\n",
    "    else:\n",
    "        player = 1\n",
    "    show_board(board)\n",
    "    move = player_move(player)\n",
    "    status = assess_move(player, move, playerlist[player], board)\n",
    "\n",
    "gameplay()"
   ]
  },
  {
   "cell_type": "code",
   "execution_count": null,
   "metadata": {
    "collapsed": true
   },
   "outputs": [],
   "source": []
  }
 ],
 "metadata": {
  "kernelspec": {
   "display_name": "Python 3",
   "language": "python",
   "name": "python3"
  },
  "language_info": {
   "codemirror_mode": {
    "name": "ipython",
    "version": 3
   },
   "file_extension": ".py",
   "mimetype": "text/x-python",
   "name": "python",
   "nbconvert_exporter": "python",
   "pygments_lexer": "ipython3",
   "version": "3.6.1"
  }
 },
 "nbformat": 4,
 "nbformat_minor": 2
}
