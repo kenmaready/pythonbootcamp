{
 "cells": [
  {
   "cell_type": "markdown",
   "metadata": {},
   "source": [
    "# Milestone Project 1: Tic-Tac-Toe Game"
   ]
  },
  {
   "cell_type": "code",
   "execution_count": null,
   "metadata": {
    "collapsed": true
   },
   "outputs": [],
   "source": [
    "from IPython.core.interactiveshell import InteractiveShell\n",
    "InteractiveShell.ast_node_interactivity = \"all\""
   ]
  },
  {
   "cell_type": "code",
   "execution_count": null,
   "metadata": {
    "collapsed": true
   },
   "outputs": [],
   "source": [
    "def game_start():\n",
    "    global p1_name\n",
    "    global p2_name\n",
    "    print(\"\"\"Would you like to play a game?\n",
    "    How about either Tic-Tac-Toe or Global Thermonuclear War?\n",
    "\n",
    "    (just kidding, I don't know how to play Global Thermonuclear War, let's play tic-tac-toe.)\n",
    "    \"\"\")\n",
    "    p1_name = input('Player 1, what is your name? ')\n",
    "    p2_name = input('Player 2, what is your name? ')\n",
    "\n",
    "    print(\"\"\"\\n\n",
    "    Thank you!\n",
    "    Here are the 'structions: You will take turns choosing a space on the board by giving me the position wish to play (row first, then column).\n",
    "    For example: 'top right' or 'bottom middle' or 'middle middle'\n",
    "\n",
    "    \\nYou may enter 'x' or 'exit' at any time to exit the game.  Good luck and may the best player win.\\n\"\"\")\n",
    "    print(p1_name + \", you are 'X's\")\n",
    "    print(p2_name + \", you are 'O's\\n\")\n",
    "    print(p1_name + ', you go first.')"
   ]
  },
  {
   "cell_type": "code",
   "execution_count": null,
   "metadata": {},
   "outputs": [],
   "source": [
    "def reset_game():\n",
    "    # Resetting Variables for New Game\n",
    "    global board\n",
    "    global XOs\n",
    "    global turns\n",
    "    global p1_list\n",
    "    global p2_list\n",
    "    global playerlist\n",
    "    global playername\n",
    "    global winning_combos\n",
    "    dash = '-'\n",
    "    board = [[dash, dash, dash],[dash, dash, dash],[dash, dash, dash]]\n",
    "    XOs = (0,'X','O')\n",
    "    turns = 0\n",
    "    p1_list = []\n",
    "    p2_list = []\n",
    "    playerlist = [0, p1_list, p2_list]\n",
    "    playername = [0, p1_name, p2_name]\n",
    "    winning_combos = ((1,2,3),(4,5,6),(7,8,9),(1,4,7),(2,5,8),(3,6,9),(1,5,9),(3,5,7))\n"
   ]
  },
  {
   "cell_type": "code",
   "execution_count": null,
   "metadata": {
    "collapsed": true
   },
   "outputs": [],
   "source": [
    "def show_board(board):\n",
    "    # This function shows the board to the players at the start of each new move\n",
    "    print(\"Here's the Board:\")\n",
    "    print('=' * 15)\n",
    "    for row in board:\n",
    "        print(' ' * 4, row[0], row[1], row[2])\n",
    "    print('=' * 15)\n"
   ]
  },
  {
   "cell_type": "code",
   "execution_count": null,
   "metadata": {
    "collapsed": true
   },
   "outputs": [],
   "source": [
    "def player_move(player):\n",
    "    print(\"Okay \" + playername[player] + \", you're up.  What's your move?\")\n",
    "    move = input().strip()\n",
    "    if 'x' in move or 'exit' in move:\n",
    "        return 'exit'\n",
    "    else:\n",
    "        return move\n"
   ]
  },
  {
   "cell_type": "code",
   "execution_count": null,
   "metadata": {
    "collapsed": true
   },
   "outputs": [],
   "source": [
    "def test_valid(move):\n",
    "    # This function tests whether the move entered was in the valid format, and returns False if not\n",
    "    try:\n",
    "        move = move.split(sep=' ')\n",
    "    except:\n",
    "        return False\n",
    "    \n",
    "    positions = {'top': 0, 'left':0, 'middle': 1, 'bottom': 2, 'right': 2}\n",
    "    try:\n",
    "        moverow, movecol = positions[move[0]], positions[move[1]]\n",
    "    except:\n",
    "        return False\n",
    "    return (moverow, movecol)\n"
   ]
  },
  {
   "cell_type": "code",
   "execution_count": null,
   "metadata": {
    "collapsed": true
   },
   "outputs": [],
   "source": [
    "def test_avail(moverow, movecol, board):\n",
    "    # This function tests whether the spot on the board the player indicated is still open or not, and returns False if not\n",
    "    return board[moverow][movecol] == '-'\n"
   ]
  },
  {
   "cell_type": "code",
   "execution_count": null,
   "metadata": {
    "collapsed": true
   },
   "outputs": [],
   "source": [
    "def record_move(player, moverow, movecol):\n",
    "    # This function records the move on the board, and adds the number of the position (1-9) to that player's 'playerlist'\n",
    "    global board\n",
    "    global playerlist\n",
    "    board[moverow][movecol] = XOs[player]\n",
    "    playerlist[player].append((moverow*3) + (movecol+1))\n",
    "    "
   ]
  },
  {
   "cell_type": "code",
   "execution_count": null,
   "metadata": {
    "collapsed": true
   },
   "outputs": [],
   "source": [
    "def test_win(playerlist):\n",
    "    for combo in winning_combos:\n",
    "        if set(combo).issubset(set(playerlist)):\n",
    "            return True\n",
    "    return False\n",
    "    "
   ]
  },
  {
   "cell_type": "code",
   "execution_count": null,
   "metadata": {
    "collapsed": true
   },
   "outputs": [],
   "source": [
    "def test_draw(board):\n",
    "    for sublist in board:\n",
    "        for item in sublist:\n",
    "            if item == '-':\n",
    "                return False\n",
    "    return True\n",
    "    "
   ]
  },
  {
   "cell_type": "code",
   "execution_count": null,
   "metadata": {
    "collapsed": true
   },
   "outputs": [],
   "source": [
    "def assess_move(player, move, playerlist, board):\n",
    "    # This function calls validating functions to be sure the move is a valid one, then records the move and tests\n",
    "    # to see if the move was a winner, or if the move covered the last spot on the board without either player being \n",
    "    # a winner (a draw).  If neither of these, it instructs the game to move to the next player's move by returning a value\n",
    "    # of 0.  \n",
    "    # (Return Values: \n",
    "    #     -1 indicates the same player needs to try again (invalid move)\n",
    "    #     0 indicates it's the next player's turn\n",
    "    #     1 indicates that this move is a winner or resulted in a draw and this game is over.)\n",
    "    \n",
    "    validity = test_valid(move)\n",
    "    if validity == False:\n",
    "        print(\"That is not a valid entry. Please enter a move in the correct format (e.g.,'top right')\")\n",
    "        return -1\n",
    "    moverow, movecol = validity\n",
    "    if test_avail(moverow, movecol, board) == False:\n",
    "        print('That spot has already been taken. Please enter another spot.')\n",
    "        return -1\n",
    "    else:\n",
    "        record_move(player, moverow, movecol)\n",
    "    \n",
    "    if test_win(playerlist) == True:\n",
    "        print()\n",
    "        print('Tic-Tac-Toe!!!! The ' + XOs[player] + 's have it!!! Congratulations, ' + playername[player] + '!')\n",
    "        return 1\n",
    "    elif test_draw(board) == True:\n",
    "        print(\"All spots are filled and no one has won. It's a Draw!\")\n",
    "        return 1\n",
    "    else:\n",
    "        return 0\n",
    "        "
   ]
  },
  {
   "cell_type": "code",
   "execution_count": null,
   "metadata": {
    "collapsed": true
   },
   "outputs": [],
   "source": [
    "def newgame():\n",
    "    print()\n",
    "    print()\n",
    "    print('Starting a New Game:')\n",
    "    print()\n",
    "    reset_game()\n",
    "    gameplay()"
   ]
  },
  {
   "cell_type": "code",
   "execution_count": null,
   "metadata": {},
   "outputs": [],
   "source": [
    "def gameplay():\n",
    "    turns = 0\n",
    "    while True:\n",
    "        turns += 1\n",
    "        if turns % 2 == 0:\n",
    "            player = 2\n",
    "        else:\n",
    "            player = 1\n",
    "        show_board(board)\n",
    "        move = player_move(player)\n",
    "        if move == 'exit':\n",
    "            print()\n",
    "            print('Okay ... now exiting game. Smell ya later!')\n",
    "            print()\n",
    "            break\n",
    "        status = assess_move(player, move, playerlist[player], board)\n",
    "        if status == -1:\n",
    "            turns -=1\n",
    "            continue\n",
    "        if status == 0:\n",
    "            continue\n",
    "        if status == 1:\n",
    "            turns = 0\n",
    "            newgame()\n",
    "        \n"
   ]
  },
  {
   "cell_type": "code",
   "execution_count": null,
   "metadata": {},
   "outputs": [],
   "source": [
    "game_start()\n",
    "reset_game()\n",
    "gameplay()\n"
   ]
  },
  {
   "cell_type": "code",
   "execution_count": null,
   "metadata": {
    "collapsed": true
   },
   "outputs": [],
   "source": []
  }
 ],
 "metadata": {
  "kernelspec": {
   "display_name": "Python 3",
   "language": "python",
   "name": "python3"
  },
  "language_info": {
   "codemirror_mode": {
    "name": "ipython",
    "version": 3
   },
   "file_extension": ".py",
   "mimetype": "text/x-python",
   "name": "python",
   "nbconvert_exporter": "python",
   "pygments_lexer": "ipython3",
   "version": "3.6.1"
  }
 },
 "nbformat": 4,
 "nbformat_minor": 2
}
